{
 "cells": [
  {
   "cell_type": "code",
   "execution_count": 5,
   "source": [
    "import numpy as np\n",
    "import matplotlib.pyplot as plt"
   ],
   "outputs": [],
   "metadata": {}
  },
  {
   "cell_type": "code",
   "execution_count": 6,
   "source": [
    "# Parameters\n",
    "\n",
    "modes = ['posteriograms','eng_mfcc_env','eng_all_classall','eng_all_classred','eng_all_syllall','eng_all_syllred','eng_all_phonall','eng_all_phonred','eng_all_sound','vae','classall','classred','syllall','syllred','phonall','phonred','sound'] # Triplet!!\n",
    "#modes = ['posteriograms','eng_mfcc_env','vae','classall','classred','syllall','syllred','phonall','phonred','siamese']\n",
    "#clfs = ['slp','mlp','logr','knn','rf','xgboost']#\n",
    "clfs = ['knn']\n",
    "\n",
    "list_test_participants_avp = [8,10,18,23]\n",
    "list_test_participants_lvt = [0,6,7,13]\n",
    "\n",
    "# Calculate utterance-wise weights\n",
    "\n",
    "num_test_utterances = []\n",
    "for part in list_test_participants_avp:\n",
    "    if part<=9:\n",
    "        test_dataset = np.load('../../data/interim/AVP/Dataset_Test_0' + str(part) + '.npy')\n",
    "    else:\n",
    "        test_dataset = np.load('../../data/interim/AVP/Dataset_Test_' + str(part) + '.npy')\n",
    "    num_test_utterances.append(test_dataset.shape[0])\n",
    "for part in list_test_participants_lvt:\n",
    "    if part<=9:\n",
    "        test_dataset = np.load('../../data/interim/LVT/Dataset_Test_0' + str(part) + '.npy')\n",
    "    else:\n",
    "        test_dataset = np.load('../../data/interim/LVT/Dataset_Test_' + str(part) + '.npy')\n",
    "    num_test_utterances.append(test_dataset.shape[0])\n",
    "utterance_wise_weights = num_test_utterances/np.sum(np.array(num_test_utterances))"
   ],
   "outputs": [],
   "metadata": {}
  },
  {
   "cell_type": "code",
   "execution_count": 3,
   "source": [
    "# Results\n",
    "\n",
    "for b in range(len(modes)):\n",
    "\n",
    "    for c in range(len(clfs)):\n",
    "\n",
    "        mode = modes[b]\n",
    "        clf = clfs[c]\n",
    "\n",
    "        accuracies_raw = np.load('../../results/' + mode + '/accuracies.npy')\n",
    "        accuracies_mean = np.mean(np.mean(np.mean(accuracies_raw,axis=-1),axis=-1),axis=-1)\n",
    "        accuracies_std = np.std(np.mean(np.mean(accuracies_raw,axis=-1),axis=-1),axis=-1)\n",
    "        \n",
    "        print([mode,clf])\n",
    "        print([accuracies_mean[0],accuracies_std[0]])"
   ],
   "outputs": [
    {
     "output_type": "stream",
     "name": "stdout",
     "text": [
      "['posteriograms', 'knn']\n",
      "[0.4094622372025102, 0.0]\n",
      "['eng_mfcc_env', 'knn']\n",
      "[0.8398673133846625, 0.0]\n",
      "['eng_all_classall', 'knn']\n",
      "[0.8255886412728023, 0.02414853631061754]\n",
      "['eng_all_classred', 'knn']\n",
      "[0.8156211899845754, 0.034042360718582805]\n",
      "['eng_all_syllall', 'knn']\n",
      "[0.8177794537376419, 0.01835333000301938]\n",
      "['eng_all_syllred', 'knn']\n",
      "[0.8146887040724147, 0.03769964924783986]\n",
      "['eng_all_phonall', 'knn']\n",
      "[0.7966834800356868, 0.0327888463889194]\n",
      "['eng_all_phonred', 'knn']\n",
      "[0.831470000807254, 0.009132004810665116]\n",
      "['eng_all_sound', 'knn']\n",
      "[0.7853844564638699, 0.027701029570245173]\n",
      "['vae', 'knn']\n",
      "[0.7913643429727562, 0.016435930198353255]\n",
      "['classall', 'knn']\n",
      "[0.7882275008323933, 0.034696060382793374]\n",
      "['classred', 'knn']\n",
      "[0.7464649232598928, 0.053384080946540256]\n",
      "['syllall', 'knn']\n",
      "[0.8793587738279595, 0.02141427091828355]\n",
      "['syllred', 'knn']\n",
      "[0.871345899558189, 0.016091789268273628]\n",
      "['phonall', 'knn']\n",
      "[0.8624758812790535, 0.028784882820691814]\n",
      "['phonred', 'knn']\n",
      "[0.864469864216525, 0.026229714253538077]\n",
      "['siamese', 'knn']\n",
      "[0.8496526561833981, 0.020633613833959723]\n"
     ]
    }
   ],
   "metadata": {}
  },
  {
   "cell_type": "code",
   "execution_count": 7,
   "source": [
    "# Results\n",
    "\n",
    "for b in range(len(modes)):\n",
    "\n",
    "    for c in range(len(clfs)):\n",
    "\n",
    "        mode = modes[b]\n",
    "        clf = clfs[c]\n",
    "\n",
    "        accuracies_raw = np.load('../../results/' + mode + '/accuracies.npy')\n",
    "        accuracies_mean = np.mean(np.mean(np.mean(np.mean(accuracies_raw,axis=-1),axis=-1),axis=-1),axis=-1)\n",
    "        accuracies_std = np.std(np.mean(np.mean(np.mean(accuracies_raw,axis=-1),axis=-1),axis=-1),axis=-1)\n",
    "        \n",
    "        print([mode,clf])\n",
    "        print([accuracies_mean[0],accuracies_std[0]])"
   ],
   "outputs": [
    {
     "output_type": "stream",
     "name": "stdout",
     "text": [
      "['posteriograms', 'knn']\n",
      "[0.4094622372025102, 0.0]\n",
      "['eng_mfcc_env', 'knn']\n",
      "[0.8398673133846625, 0.0]\n",
      "['eng_all_classall', 'knn']\n",
      "[0.8199911164350769, 0.0076682665220575786]\n",
      "['eng_all_classred', 'knn']\n",
      "[0.8215571997769298, 0.014027484341626633]\n",
      "['eng_all_syllall', 'knn']\n",
      "[0.8209609287317621, 0.017035560369985426]\n",
      "['eng_all_syllred', 'knn']\n",
      "[0.8313331982090693, 0.010751482692254458]\n",
      "['eng_all_phonall', 'knn']\n",
      "[0.8289876579871498, 0.010549025923352297]\n",
      "['eng_all_phonred', 'knn']\n",
      "[0.8269653704793077, 0.009752046461748157]\n",
      "['eng_all_sound', 'knn']\n",
      "[0.790801013459913, 0.013441569457623405]\n",
      "['vae', 'knn']\n",
      "[0.7863679019259013, 0.021549705584060472]\n",
      "['classall', 'knn']\n",
      "[0.8056233976427066, 0.014434608303351899]\n",
      "['classred', 'knn']\n",
      "[0.7608765343063398, 0.034345083691832694]\n",
      "['syllall', 'knn']\n",
      "[0.8899529502200816, 0.013205589927887257]\n",
      "['syllred', 'knn']\n",
      "[0.8799545743299373, 0.011154119092813476]\n",
      "['phonall', 'knn']\n",
      "[0.874799560751869, 0.008294119264234774]\n",
      "['phonred', 'knn']\n",
      "[0.8841917602550587, 0.009366361633792324]\n",
      "['siamese', 'knn']\n",
      "[0.8003481782525771, 0.03843315546816228]\n"
     ]
    }
   ],
   "metadata": {}
  },
  {
   "cell_type": "code",
   "execution_count": 4,
   "source": [
    "# Results Utterance-Wise\n",
    "\n",
    "for b in range(len(modes)):\n",
    "\n",
    "    for c in range(len(clfs)):\n",
    "\n",
    "        mode = modes[b]\n",
    "        clf = clfs[c]\n",
    "\n",
    "        accuracies_raw = np.load('../../results/' + mode + '/accuracies.npy')\n",
    "\n",
    "        for i in range(accuracies_raw.shape[0]):\n",
    "            for j in range(accuracies_raw.shape[1]):\n",
    "                for k in range(accuracies_raw.shape[2]):\n",
    "                    accuracies_raw[i,j,k] *= utterance_wise_weights*8\n",
    "\n",
    "        accuracies_mean = np.mean(np.mean(np.mean(accuracies_raw,axis=-1),axis=-1),axis=-1)\n",
    "        accuracies_std = np.std(np.mean(np.mean(accuracies_raw,axis=-1),axis=-1),axis=-1)\n",
    "        \n",
    "        print([mode,clf])\n",
    "        print([accuracies_mean[0],accuracies_std[0]])"
   ],
   "outputs": [
    {
     "output_type": "stream",
     "name": "stdout",
     "text": [
      "['posteriograms', 'knn']\n",
      "[0.376996805111821, 5.551115123125783e-17]\n",
      "['eng_mfcc_env', 'knn']\n",
      "[0.8345047923322682, 0.0]\n",
      "['eng_all_classall', 'knn']\n",
      "[0.7853035143769966, 0.023973160180237898]\n",
      "['eng_all_classred', 'knn']\n",
      "[0.7597444089456868, 0.034345865210574436]\n",
      "['eng_all_syllall', 'knn']\n",
      "[0.7768690095846644, 0.021462040337616086]\n",
      "['eng_all_syllred', 'knn']\n",
      "[0.7844089456869009, 0.02792149488465144]\n",
      "['eng_all_phonall', 'knn']\n",
      "[0.7644728434504792, 0.01887137990649255]\n",
      "['eng_all_phonred', 'knn']\n",
      "[0.7902875399361022, 0.016111362087757757]\n",
      "['eng_all_sound', 'knn']\n",
      "[0.7478594249201278, 0.028828019727193607]\n",
      "['vae', 'knn']\n",
      "[0.7824920127795527, 0.01911429800555755]\n",
      "['classall', 'knn']\n",
      "[0.7674760383386581, 0.0329831937141115]\n",
      "['classred', 'knn']\n",
      "[0.7140575079872205, 0.05572255021859796]\n",
      "['syllall', 'knn']\n",
      "[0.8542492012779551, 0.028958379038243397]\n",
      "['syllred', 'knn']\n",
      "[0.8464536741214056, 0.016208004976813774]\n",
      "['phonall', 'knn']\n",
      "[0.8318210862619809, 0.037139719664476635]\n",
      "['phonred', 'knn']\n",
      "[0.8354632587859424, 0.03114680083471563]\n",
      "['siamese', 'knn']\n",
      "[0.8198083067092652, 0.012966681077159405]\n"
     ]
    }
   ],
   "metadata": {}
  },
  {
   "cell_type": "code",
   "execution_count": 8,
   "source": [
    "# Results Utterance-Wise\n",
    "\n",
    "for b in range(len(modes)):\n",
    "\n",
    "    for c in range(len(clfs)):\n",
    "\n",
    "        mode = modes[b]\n",
    "        clf = clfs[c]\n",
    "\n",
    "        accuracies_raw = np.load('../../results/' + mode + '/accuracies.npy')\n",
    "\n",
    "        for i in range(accuracies_raw.shape[0]):\n",
    "            for j in range(accuracies_raw.shape[1]):\n",
    "                for k in range(accuracies_raw.shape[2]):\n",
    "                    for l in range(accuracies_raw.shape[3]):\n",
    "                        accuracies_raw[i,j,k,l] *= utterance_wise_weights*8\n",
    "\n",
    "        accuracies_mean = np.mean(np.mean(np.mean(np.mean(accuracies_raw,axis=-1),axis=-1),axis=-1),axis=-1)\n",
    "        accuracies_std = np.std(np.mean(np.mean(np.mean(accuracies_raw,axis=-1),axis=-1),axis=-1),axis=-1)\n",
    "        \n",
    "        print([mode,clf])\n",
    "        print([accuracies_mean[0],accuracies_std[0]])"
   ],
   "outputs": [
    {
     "output_type": "stream",
     "name": "stdout",
     "text": [
      "['posteriograms', 'knn']\n",
      "[0.37699680511182104, 0.0]\n",
      "['eng_mfcc_env', 'knn']\n",
      "[0.8345047923322682, 0.0]\n",
      "['eng_all_classall', 'knn']\n",
      "[0.7722428115015973, 0.005294746206612755]\n",
      "['eng_all_classred', 'knn']\n",
      "[0.7667731629392971, 0.01925213213274165]\n",
      "['eng_all_syllall', 'knn']\n",
      "[0.7823897763578275, 0.012011800653474328]\n",
      "['eng_all_syllred', 'knn']\n",
      "[0.7915399361022364, 0.010667490024600965]\n",
      "['eng_all_phonall', 'knn']\n",
      "[0.7886773162939296, 0.011994711447807527]\n",
      "['eng_all_phonred', 'knn']\n",
      "[0.7878594249201276, 0.008374654534450033]\n",
      "['eng_all_sound', 'knn']\n",
      "[0.7489584664536741, 0.0076402489378176825]\n",
      "['vae', 'knn']\n",
      "[0.7859936102236422, 0.026600582953835047]\n",
      "['classall', 'knn']\n",
      "[0.7702236421725239, 0.015317348193198889]\n",
      "['classred', 'knn']\n",
      "[0.7182619808306708, 0.03724195843448363]\n",
      "['syllall', 'knn']\n",
      "[0.8636166134185304, 0.01649253638135309]\n",
      "['syllred', 'knn']\n",
      "[0.8489712460063897, 0.015501002177319376]\n",
      "['phonall', 'knn']\n",
      "[0.8348626198083068, 0.013572679170279624]\n",
      "['phonred', 'knn']\n",
      "[0.851629392971246, 0.012315935483734547]\n",
      "['siamese', 'knn']\n",
      "[0.7715782747603834, 0.03731590879051985]\n"
     ]
    }
   ],
   "metadata": {}
  },
  {
   "cell_type": "code",
   "execution_count": 91,
   "source": [
    "import matplotlib.pyplot as plt\n",
    "\n",
    "dataset_sel = np.load('../../data/interim/AVP/Dataset_Train_03.npy')\n",
    "classes_sel = np.load('../../data/interim/AVP/Classes_Train_03.npy')\n",
    "\n",
    "const = 1\n",
    "for n in range(4):\n",
    "    idx = int(n*(len(classes_sel)//4)) + len(classes_sel)//8 + const\n",
    "    print(idx)\n",
    "    print(classes_sel[idx])\n",
    "    plt.imshow(dataset_sel[idx])\n",
    "    plt.show()"
   ],
   "outputs": [
    {
     "output_type": "stream",
     "name": "stdout",
     "text": [
      "15\n",
      "hhc\n"
     ]
    },
    {
     "output_type": "display_data",
     "data": {
      "image/png": "[encoded data removed]",
      "text/plain": [
       "<Figure size 432x288 with 1 Axes>"
      ]
     },
     "metadata": {
      "needs_background": "light"
     }
    },
    {
     "output_type": "stream",
     "name": "stdout",
     "text": [
      "43\n",
      "hho\n"
     ]
    },
    {
     "output_type": "display_data",
     "data": {
      "image/png": "[encoded data removed]",
      "text/plain": [
       "<Figure size 432x288 with 1 Axes>"
      ]
     },
     "metadata": {
      "needs_background": "light"
     }
    },
    {
     "output_type": "stream",
     "name": "stdout",
     "text": [
      "71\n",
      "kd\n"
     ]
    },
    {
     "output_type": "display_data",
     "data": {
      "image/png": "[encoded data removed]",
      "text/plain": [
       "<Figure size 432x288 with 1 Axes>"
      ]
     },
     "metadata": {
      "needs_background": "light"
     }
    },
    {
     "output_type": "stream",
     "name": "stdout",
     "text": [
      "99\n",
      "sd\n"
     ]
    },
    {
     "output_type": "display_data",
     "data": {
      "image/png": "[encoded data removed]",
      "text/plain": [
       "<Figure size 432x288 with 1 Axes>"
      ]
     },
     "metadata": {
      "needs_background": "light"
     }
    }
   ],
   "metadata": {}
  },
  {
   "cell_type": "code",
   "execution_count": 99,
   "source": [
    "part_indices = ['03','03','03','04','05','06','07','09','09','10','10','10','11','11','14','14','15','15','16','18','20','23','23','24','24','25','25','25','26','27']\n",
    "sound_indices = [101,48,80,25,23,23,85,73,102,13,38,63,13,63,16,47,66,92,99,95,73,66,92,18,88,16,46,76,37,127]\n",
    "sound_labels = ['sd','hho','kd','hhc','hhc','hho','sd','kd','sd','hhc','hho','kd','hhc','kd','hhc','hho','kd','sd','sd','sd','kd','kd','sd','hhc','kd','hhc','hho','kd','hho','sd']\n",
    "\n",
    "norm_min_max = [[0.0, 3.7073483668036347],[-9.210340371976182, 9.999500033329732e-05]]\n",
    "\n",
    "for n in range(len(part_indices)):\n",
    "    \n",
    "    part_index = part_indices[n]\n",
    "    sound_index = sound_indices[n]\n",
    "    sound_label = sound_labels[n]\n",
    "\n",
    "    # Spectrogram loading\n",
    "\n",
    "    Spectrograms = np.load('../../data/interim/AVP/Dataset_Train_' + part_index + '.npy')\n",
    "    Spectrogram = Spectrograms[sound_index]\n",
    "    Label = sound_label\n",
    "\n",
    "    # Spectrogram normalisation\n",
    "\n",
    "    Spectrogram = (Spectrogram-norm_min_max[0][0])/(norm_min_max[0][1]-norm_min_max[0][0]+1e-16)\n",
    "    Spectrogram = np.log(Spectrogram+1e-4)\n",
    "    Spectrogram = (Spectrogram-norm_min_max[1][0])/(norm_min_max[1][1]-norm_min_max[1][0]+1e-16)\n",
    "\n",
    "    # Vinod's thing...\n",
    "\n"
   ],
   "outputs": [],
   "metadata": {}
  }
 ],
 "metadata": {
  "kernelspec": {
   "name": "python3",
   "display_name": "Python 3.6.6 64-bit ('mip': conda)"
  },
  "language_info": {
   "codemirror_mode": {
    "name": "ipython",
    "version": 3
   },
   "file_extension": ".py",
   "mimetype": "text/x-python",
   "name": "python",
   "nbconvert_exporter": "python",
   "pygments_lexer": "ipython3",
   "version": "3.6.6"
  },
  "interpreter": {
   "hash": "d27af43fe1451b594071d7eb39c022d87d8cdc22e728ecc3a021ec050d61a923"
  }
 },
 "nbformat": 4,
 "nbformat_minor": 4
}