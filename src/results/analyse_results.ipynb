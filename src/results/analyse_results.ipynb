{
 "cells": [
  {
   "cell_type": "code",
   "execution_count": 1,
   "source": [
    "import numpy as np\n",
    "import matplotlib.pyplot as plt"
   ],
   "outputs": [],
   "metadata": {}
  },
  {
   "cell_type": "code",
   "execution_count": 4,
   "source": [
    "# Results\n",
    "\n",
    "#modes = ['vae','classall','classred','syllall','syllred','phonall','phonred']\n",
    "modes = ['vae','classall','classred','syllred','phonall','phonred']\n",
    "clfs = ['logr','knn']\n",
    "\n",
    "for b in range(len(modes)):\n",
    "\n",
    "    mode = modes[b]\n",
    "\n",
    "    accuracies = np.load('../../results/' + mode + '/accuracies.npy')\n",
    "\n",
    "    frame_sizes = ['512','1024','2048']\n",
    "\n",
    "    #accuracies_allpart = accuracies[:,:,b,:]\n",
    "    accuracies = np.mean(accuracies,axis=-1)\n",
    "    accuracies_allpart = np.mean(accuracies,axis=-2)\n",
    "    \n",
    "    for c in range(len(clfs)):\n",
    "        for a in range(len(frame_sizes)):\n",
    "            print([mode,clfs[c],frame_sizes[a]])\n",
    "            print(accuracies_allpart[a,c])\n",
    "            print(accuracies_allpart.shape)\n",
    "        \n",
    "    #print('')\n",
    "    #print(np.sum(accuracies_allpart)/accuracies_allpart.size)\n",
    "    #print('')"
   ],
   "outputs": [
    {
     "output_type": "stream",
     "name": "stdout",
     "text": [
      "['vae', 'logr', '512']\n",
      "0.7961157706173363\n",
      "(3, 2)\n",
      "['vae', 'logr', '1024']\n",
      "0.797745713851635\n",
      "(3, 2)\n",
      "['vae', 'logr', '2048']\n",
      "0.7962040509962531\n",
      "(3, 2)\n",
      "['vae', 'knn', '512']\n",
      "0.7383305732572847\n",
      "(3, 2)\n",
      "['vae', 'knn', '1024']\n",
      "0.7542332388822405\n",
      "(3, 2)\n",
      "['vae', 'knn', '2048']\n",
      "0.711264776059125\n",
      "(3, 2)\n",
      "['classall', 'logr', '512']\n",
      "0.7690512784678611\n",
      "(3, 2)\n",
      "['classall', 'logr', '1024']\n",
      "0.7593299369239258\n",
      "(3, 2)\n",
      "['classall', 'logr', '2048']\n",
      "0.7557932994269944\n",
      "(3, 2)\n",
      "['classall', 'knn', '512']\n",
      "0.7251728863440506\n",
      "(3, 2)\n",
      "['classall', 'knn', '1024']\n",
      "0.7046592531001644\n",
      "(3, 2)\n",
      "['classall', 'knn', '2048']\n",
      "0.7210578454526682\n",
      "(3, 2)\n",
      "['classred', 'logr', '512']\n",
      "0.6582711674598395\n",
      "(3, 2)\n",
      "['classred', 'logr', '1024']\n",
      "0.717968461589196\n",
      "(3, 2)\n",
      "['classred', 'logr', '2048']\n",
      "0.6871462455388446\n",
      "(3, 2)\n",
      "['classred', 'knn', '512']\n",
      "0.658984543888872\n",
      "(3, 2)\n",
      "['classred', 'knn', '1024']\n",
      "0.6688840139739111\n",
      "(3, 2)\n",
      "['classred', 'knn', '2048']\n",
      "0.6571898183321985\n",
      "(3, 2)\n",
      "['syllred', 'logr', '512']\n",
      "0.7514132971168788\n",
      "(3, 2)\n",
      "['syllred', 'logr', '1024']\n",
      "0.7431797384680596\n",
      "(3, 2)\n",
      "['syllred', 'logr', '2048']\n",
      "0.7543234248879142\n",
      "(3, 2)\n",
      "['syllred', 'knn', '512']\n",
      "0.7164976166869382\n",
      "(3, 2)\n",
      "['syllred', 'knn', '1024']\n",
      "0.7136644665027262\n",
      "(3, 2)\n",
      "['syllred', 'knn', '2048']\n",
      "0.7057166228335932\n",
      "(3, 2)\n",
      "['phonall', 'logr', '512']\n",
      "0.7420267455510382\n",
      "(3, 2)\n",
      "['phonall', 'logr', '1024']\n",
      "0.7175271226237455\n",
      "(3, 2)\n",
      "['phonall', 'logr', '2048']\n",
      "0.7329181043756593\n",
      "(3, 2)\n",
      "['phonall', 'knn', '512']\n",
      "0.6678972885762642\n",
      "(3, 2)\n",
      "['phonall', 'knn', '1024']\n",
      "0.6769511012635194\n",
      "(3, 2)\n",
      "['phonall', 'knn', '2048']\n",
      "0.6627862871006224\n",
      "(3, 2)\n",
      "['phonred', 'logr', '512']\n",
      "0.7073402677761214\n",
      "(3, 2)\n",
      "['phonred', 'logr', '1024']\n",
      "0.728352431452515\n",
      "(3, 2)\n",
      "['phonred', 'logr', '2048']\n",
      "0.7299941987147948\n",
      "(3, 2)\n",
      "['phonred', 'knn', '512']\n",
      "0.6812059621425952\n",
      "(3, 2)\n",
      "['phonred', 'knn', '1024']\n",
      "0.7131584061431128\n",
      "(3, 2)\n",
      "['phonred', 'knn', '2048']\n",
      "0.6639274458999174\n",
      "(3, 2)\n"
     ]
    }
   ],
   "metadata": {}
  },
  {
   "cell_type": "code",
   "execution_count": 16,
   "source": [
    "accuracies_allpart.shape"
   ],
   "outputs": [
    {
     "output_type": "execute_result",
     "data": {
      "text/plain": [
       "(3,)"
      ]
     },
     "metadata": {},
     "execution_count": 16
    }
   ],
   "metadata": {}
  },
  {
   "cell_type": "code",
   "execution_count": 13,
   "source": [
    "# Results\n",
    "\n",
    "#modes = ['vae','classall','classred','syllall','syllred','phonall','phonred']\n",
    "modes = ['vae','phonall']\n",
    "\n",
    "for mode in modes:\n",
    "\n",
    "    accuracies = np.load('../../results/' + mode + '/accuracies_also_valid.npy')\n",
    "\n",
    "    frame_sizes = ['512','1024','2048']\n",
    "    num_it = 10\n",
    "\n",
    "    accuracies = accuracies[:,:,0,:]\n",
    "    accuracies_allpart = np.mean(np.mean(accuracies,axis=-1),axis=-1)\n",
    "\n",
    "    print('')\n",
    "    print(mode)\n",
    "    print('')\n",
    "    \n",
    "    for a in range(len(frame_sizes)):\n",
    "        print(frame_sizes[a])\n",
    "        print(accuracies_allpart[a])\n",
    "        \n",
    "    #print('')\n",
    "    #print(np.sum(accuracies_allpart)/accuracies_allpart.size)\n",
    "    #print('')"
   ],
   "outputs": [
    {
     "output_type": "stream",
     "name": "stdout",
     "text": [
      "\n",
      "vae\n",
      "\n",
      "512\n",
      "0.7421456831162573\n",
      "1024\n",
      "0.7594457751367198\n",
      "2048\n",
      "0.7172196379591337\n",
      "\n",
      "phonall\n",
      "\n",
      "512\n",
      "0.6725714591954722\n",
      "1024\n",
      "0.6826682268234209\n",
      "2048\n",
      "0.6706833597838818\n"
     ]
    }
   ],
   "metadata": {}
  },
  {
   "cell_type": "code",
   "execution_count": 14,
   "source": [
    "accuracies_allpart"
   ],
   "outputs": [
    {
     "output_type": "execute_result",
     "data": {
      "text/plain": [
       "array([0.67257146, 0.68266823, 0.67068336])"
      ]
     },
     "metadata": {},
     "execution_count": 14
    }
   ],
   "metadata": {}
  },
  {
   "cell_type": "code",
   "execution_count": null,
   "source": [],
   "outputs": [],
   "metadata": {}
  }
 ],
 "metadata": {
  "kernelspec": {
   "name": "python3",
   "display_name": "Python 3.6.6 64-bit (conda)"
  },
  "language_info": {
   "codemirror_mode": {
    "name": "ipython",
    "version": 3
   },
   "file_extension": ".py",
   "mimetype": "text/x-python",
   "name": "python",
   "nbconvert_exporter": "python",
   "pygments_lexer": "ipython3",
   "version": "3.6.6"
  },
  "interpreter": {
   "hash": "d27af43fe1451b594071d7eb39c022d87d8cdc22e728ecc3a021ec050d61a923"
  }
 },
 "nbformat": 4,
 "nbformat_minor": 4
}