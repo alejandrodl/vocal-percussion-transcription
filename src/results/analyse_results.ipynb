{
 "cells": [
  {
   "cell_type": "code",
   "execution_count": 1,
   "source": [
    "import numpy as np\n",
    "import matplotlib.pyplot as plt"
   ],
   "outputs": [],
   "metadata": {}
  },
  {
   "cell_type": "code",
   "execution_count": 2,
   "source": [
    "# Results\n",
    "\n",
    "#modes = ['vae','classall','classred','syllall','syllred','phonall','phonred'] # Triplet!!\n",
    "#clfs = ['mlp','logr','knn','rf','xgboost']\n",
    "\n",
    "modes = ['eng_mfcc_env','vae','classall','classred','syllall','syllred','phonall','phonred'] # Triplet!!\n",
    "clfs = ['knn']\n",
    "\n",
    "for c in range(len(clfs)):\n",
    "\n",
    "    for b in range(len(modes)):\n",
    "\n",
    "        mode = modes[b]\n",
    "\n",
    "        print([mode,clfs[c]])\n",
    "\n",
    "        accuracies = np.load('../../results/' + mode + '/accuracies.npy')\n",
    "\n",
    "        frame_sizes = ['1024']\n",
    "\n",
    "        accuracies = np.mean(accuracies,axis=-1)\n",
    "        accuracies_allpart = np.mean(accuracies,axis=-2)\n",
    "        \n",
    "        for a in range(len(frame_sizes)):\n",
    "            print(accuracies_allpart[a,c])"
   ],
   "outputs": [
    {
     "output_type": "stream",
     "name": "stdout",
     "text": [
      "['eng_mfcc_env', 'knn']\n",
      "0.7331456690659962\n",
      "['vae', 'knn']\n",
      "0.7733443390601324\n",
      "['classall', 'knn']\n",
      "0.6807971897826385\n",
      "['classred', 'knn']\n",
      "0.6149770267467162\n",
      "['syllall', 'knn']\n",
      "0.7718138289837162\n",
      "['syllred', 'knn']\n",
      "0.7746519804030108\n",
      "['phonall', 'knn']\n",
      "0.7466897416524267\n",
      "['phonred', 'knn']\n",
      "0.7506229051607054\n"
     ]
    }
   ],
   "metadata": {}
  },
  {
   "cell_type": "code",
   "execution_count": null,
   "source": [
    "a = [0,4,2,6,7,3]\n"
   ],
   "outputs": [],
   "metadata": {}
  },
  {
   "cell_type": "code",
   "execution_count": null,
   "source": [
    "# Results\n",
    "\n",
    "modes = ['vae','classall','classred','syllall','syllred','phonall','phonred'] # Triplet!!\n",
    "clfs = ['mlp','logr','knn','rf','xgboost']\n",
    "\n",
    "for c in range(len(clfs)):\n",
    "\n",
    "    for b in range(len(modes)):\n",
    "\n",
    "        mode = modes[b]\n",
    "\n",
    "        print([mode,clfs[c]])\n",
    "\n",
    "        accuracies = np.load('../../results/' + mode + '/accuracies_also_valid.npy')\n",
    "\n",
    "        frame_sizes = ['1024']\n",
    "\n",
    "        accuracies = np.mean(accuracies,axis=-1)\n",
    "        accuracies_allpart = np.mean(accuracies,axis=-2)\n",
    "        \n",
    "        for a in range(len(frame_sizes)):\n",
    "            print(accuracies_allpart[a,c])"
   ],
   "outputs": [],
   "metadata": {}
  }
 ],
 "metadata": {
  "kernelspec": {
   "name": "python3",
   "display_name": "Python 3.6.6 64-bit (conda)"
  },
  "language_info": {
   "codemirror_mode": {
    "name": "ipython",
    "version": 3
   },
   "file_extension": ".py",
   "mimetype": "text/x-python",
   "name": "python",
   "nbconvert_exporter": "python",
   "pygments_lexer": "ipython3",
   "version": "3.6.6"
  },
  "interpreter": {
   "hash": "d27af43fe1451b594071d7eb39c022d87d8cdc22e728ecc3a021ec050d61a923"
  }
 },
 "nbformat": 4,
 "nbformat_minor": 4
}