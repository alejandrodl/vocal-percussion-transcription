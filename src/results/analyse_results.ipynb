{
 "cells": [
  {
   "cell_type": "code",
   "execution_count": 1,
   "source": [
    "import numpy as np\n",
    "import matplotlib.pyplot as plt"
   ],
   "outputs": [],
   "metadata": {}
  },
  {
   "cell_type": "code",
   "execution_count": 2,
   "source": [
    "# Parameters\n",
    "\n",
    "modes = ['posteriograms','eng_mfcc_env','eng_all_classall','eng_all_classred','eng_all_syllall','eng_all_syllred','eng_all_phonall','eng_all_phonred', 'vae','classall','classred','syllall','syllred','phonall','phonred','siamese'] # Triplet!!\n",
    "#modes = ['posteriograms','eng_mfcc_env','vae','classall','classred','syllall','syllred','phonall','phonred','siamese']\n",
    "#clfs = ['slp','mlp','logr','knn','rf','xgboost']#\n",
    "clfs = ['knn']\n",
    "\n",
    "list_test_participants_avp = [8,10,18,23]\n",
    "list_test_participants_lvt = [0,6,7,13]\n",
    "\n",
    "# Calculate utterance-wise weights\n",
    "\n",
    "num_test_utterances = []\n",
    "for part in list_test_participants_avp:\n",
    "    if part<=9:\n",
    "        test_dataset = np.load('../../data/interim/AVP/Dataset_Test_0' + str(part) + '.npy')\n",
    "    else:\n",
    "        test_dataset = np.load('../../data/interim/AVP/Dataset_Test_' + str(part) + '.npy')\n",
    "    num_test_utterances.append(test_dataset.shape[0])\n",
    "for part in list_test_participants_lvt:\n",
    "    if part<=9:\n",
    "        test_dataset = np.load('../../data/interim/LVT/Dataset_Test_0' + str(part) + '.npy')\n",
    "    else:\n",
    "        test_dataset = np.load('../../data/interim/LVT/Dataset_Test_' + str(part) + '.npy')\n",
    "    num_test_utterances.append(test_dataset.shape[0])\n",
    "utterance_wise_weights = num_test_utterances/np.sum(np.array(num_test_utterances))"
   ],
   "outputs": [],
   "metadata": {}
  },
  {
   "cell_type": "code",
   "execution_count": 3,
   "source": [
    "# Results\n",
    "\n",
    "for b in range(len(modes)):\n",
    "\n",
    "    for c in range(len(clfs)):\n",
    "\n",
    "        mode = modes[b]\n",
    "        clf = clfs[c]\n",
    "\n",
    "        accuracies_raw = np.load('../../results/' + mode + '/accuracies.npy')\n",
    "        accuracies_mean = np.mean(np.mean(np.mean(accuracies_raw,axis=-1),axis=-1),axis=-1)\n",
    "        accuracies_std = np.std(np.mean(np.mean(accuracies_raw,axis=-1),axis=-1),axis=-1)\n",
    "        \n",
    "        print([mode,clf])\n",
    "        print([accuracies_mean[0],accuracies_std[0]])"
   ],
   "outputs": [
    {
     "output_type": "stream",
     "name": "stdout",
     "text": [
      "['posteriograms', 'knn']\n",
      "[0.40350218851552694, 0.0]\n",
      "['eng_mfcc_env', 'knn']\n",
      "[0.8390245995206616, 0.0]\n",
      "['eng_all_classall', 'knn']\n",
      "[0.808419977184949, 1.1102230246251565e-16]\n",
      "['eng_all_classred', 'knn']\n",
      "[0.7355276839502123, 0.0]\n",
      "['eng_all_syllall', 'knn']\n",
      "[0.8520380099666539, 1.1102230246251565e-16]\n",
      "['eng_all_syllred', 'knn']\n",
      "[0.8502438000047066, 1.1102230246251565e-16]\n",
      "['eng_all_phonall', 'knn']\n",
      "[0.7879257594908908, 0.0]\n",
      "['eng_all_phonred', 'knn']\n",
      "[0.7361112136763632, 0.0]\n",
      "['vae', 'knn']\n",
      "[0.7910309827280464, 0.01624331950467861]\n",
      "['classall', 'knn']\n",
      "[0.7887725412673692, 0.03335355168747176]\n",
      "['classred', 'knn']\n",
      "[0.7446181986013486, 0.051995388625176886]\n",
      "['syllall', 'knn']\n",
      "[0.8779996526049443, 0.021289516820097953]\n",
      "['syllred', 'knn']\n",
      "[0.870807001123312, 0.01632072955021058]\n",
      "['phonall', 'knn']\n",
      "[0.8620891325472663, 0.028698340810618703]\n",
      "['phonred', 'knn']\n",
      "[0.8654163737664936, 0.026183922613394025]\n",
      "['siamese', 'knn']\n",
      "[0.8492785796940214, 0.02143377960096325]\n"
     ]
    }
   ],
   "metadata": {}
  },
  {
   "cell_type": "code",
   "execution_count": 4,
   "source": [
    "# Results Utterance-Wise\n",
    "\n",
    "for b in range(len(modes)):\n",
    "\n",
    "    for c in range(len(clfs)):\n",
    "\n",
    "        mode = modes[b]\n",
    "        clf = clfs[c]\n",
    "\n",
    "        accuracies_raw = np.load('../../results/' + mode + '/accuracies.npy')\n",
    "\n",
    "        for i in range(accuracies_raw.shape[0]):\n",
    "            for j in range(accuracies_raw.shape[1]):\n",
    "                for k in range(accuracies_raw.shape[2]):\n",
    "                    accuracies_raw[i,j,k] *= utterance_wise_weights*8\n",
    "\n",
    "        accuracies_mean = np.mean(np.mean(np.mean(accuracies_raw,axis=-1),axis=-1),axis=-1)\n",
    "        accuracies_std = np.std(np.mean(np.mean(accuracies_raw,axis=-1),axis=-1),axis=-1)\n",
    "        \n",
    "        print([mode,clf])\n",
    "        print([accuracies_mean[0],accuracies_std[0]])"
   ],
   "outputs": [
    {
     "output_type": "stream",
     "name": "stdout",
     "text": [
      "['posteriograms', 'knn']\n",
      "[0.37300319488817896, 5.551115123125783e-17]\n",
      "['eng_mfcc_env', 'knn']\n",
      "[0.8338658146964855, 0.0]\n",
      "['eng_all_classall', 'knn']\n",
      "[0.7707667731629393, 0.0]\n",
      "['eng_all_classred', 'knn']\n",
      "[0.6661341853035143, 0.0]\n",
      "['eng_all_syllall', 'knn']\n",
      "[0.8067092651757187, 0.0]\n",
      "['eng_all_syllred', 'knn']\n",
      "[0.803514376996805, 1.1102230246251565e-16]\n",
      "['eng_all_phonall', 'knn']\n",
      "[0.7116613418530351, 0.0]\n",
      "['eng_all_phonred', 'knn']\n",
      "[0.6701277955271564, 1.1102230246251565e-16]\n",
      "['vae', 'knn']\n",
      "[0.7805111821086261, 0.017733787969812058]\n",
      "['classall', 'knn']\n",
      "[0.7674121405750798, 0.03221692669588356]\n",
      "['classred', 'knn']\n",
      "[0.7119009584664536, 0.053913501360266264]\n",
      "['syllall', 'knn']\n",
      "[0.8526357827476037, 0.028621120934114307]\n",
      "['syllred', 'knn']\n",
      "[0.8456869009584664, 0.016375944689527917]\n",
      "['phonall', 'knn']\n",
      "[0.8309105431309904, 0.03679335444638176]\n",
      "['phonred', 'knn']\n",
      "[0.8359424920127794, 0.03104389180771539]\n",
      "['siamese', 'knn']\n",
      "[0.819408945686901, 0.01384556500486244]\n"
     ]
    }
   ],
   "metadata": {}
  }
 ],
 "metadata": {
  "kernelspec": {
   "name": "python3",
   "display_name": "Python 3.6.6 64-bit ('mip': conda)"
  },
  "language_info": {
   "codemirror_mode": {
    "name": "ipython",
    "version": 3
   },
   "file_extension": ".py",
   "mimetype": "text/x-python",
   "name": "python",
   "nbconvert_exporter": "python",
   "pygments_lexer": "ipython3",
   "version": "3.6.6"
  },
  "interpreter": {
   "hash": "d27af43fe1451b594071d7eb39c022d87d8cdc22e728ecc3a021ec050d61a923"
  }
 },
 "nbformat": 4,
 "nbformat_minor": 4
}