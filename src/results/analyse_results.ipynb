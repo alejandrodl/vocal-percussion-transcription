{
 "cells": [
  {
   "cell_type": "code",
   "execution_count": 1,
   "source": [
    "import numpy as np\n",
    "import matplotlib.pyplot as plt"
   ],
   "outputs": [],
   "metadata": {}
  },
  {
   "cell_type": "code",
   "execution_count": 4,
   "source": [
    "# Results\n",
    "\n",
    "modes = ['vae','classall','classred','syllall','syllred','phonall','phonred'] # Triplet!!\n",
    "clfs = ['mlp','logr','knn','rf','xgboost']\n",
    "\n",
    "for c in range(len(clfs)):\n",
    "\n",
    "    for b in range(len(modes)):\n",
    "\n",
    "        mode = modes[b]\n",
    "\n",
    "        print([mode,clfs[c]])\n",
    "\n",
    "        accuracies = np.load('../../results/' + mode + '/accuracies.npy')\n",
    "\n",
    "        frame_sizes = ['1024']\n",
    "\n",
    "        accuracies = np.mean(accuracies,axis=-1)\n",
    "        accuracies_allpart = np.mean(accuracies,axis=-2)\n",
    "        \n",
    "        for a in range(len(frame_sizes)):\n",
    "            print(accuracies_allpart[a,c])"
   ],
   "outputs": [
    {
     "output_type": "stream",
     "name": "stdout",
     "text": [
      "['vae', 'logr']\n",
      "0.7843231320990128\n",
      "['classall', 'logr']\n",
      "0.666907363541615\n",
      "['classred', 'logr']\n",
      "0.6083159421953843\n",
      "['syllall', 'logr']\n",
      "0.7688975467091783\n",
      "['syllred', 'logr']\n",
      "0.7699151170999265\n",
      "['phonall', 'logr']\n",
      "0.7405638838062908\n",
      "['phonred', 'logr']\n",
      "0.7361418566643677\n"
     ]
    }
   ],
   "metadata": {}
  },
  {
   "cell_type": "code",
   "execution_count": 4,
   "source": [
    "# Results\n",
    "\n",
    "modes = ['vae','classall','classred','syllall','syllred','phonall','phonred'] # Triplet!!\n",
    "clfs = ['logr','knn','rf','xgboost']\n",
    "\n",
    "for c in range(len(clfs)):\n",
    "\n",
    "    for b in range(len(modes)):\n",
    "\n",
    "        mode = modes[b]\n",
    "\n",
    "        print([mode,clfs[c]])\n",
    "\n",
    "        accuracies = np.load('../../results/' + mode + '/accuracies_also_valid.npy')\n",
    "\n",
    "        frame_sizes = ['1024']\n",
    "\n",
    "        accuracies = np.mean(accuracies,axis=-1)\n",
    "        accuracies_allpart = np.mean(accuracies,axis=-2)\n",
    "        \n",
    "        for a in range(len(frame_sizes)):\n",
    "            print(accuracies_allpart[a,c])"
   ],
   "outputs": [
    {
     "output_type": "stream",
     "name": "stdout",
     "text": [
      "['vae', 'knn']\n",
      "0.7874379618459404\n",
      "['classall', 'knn']\n",
      "0.6979463121474817\n",
      "['classred', 'knn']\n",
      "0.6568468635289628\n",
      "['syllall', 'knn']\n",
      "0.7646462202282981\n",
      "['syllred', 'knn']\n",
      "0.7879064800782043\n",
      "['phonall', 'knn']\n",
      "0.7595002140621733\n",
      "['phonred', 'knn']\n",
      "0.7685762661051591\n"
     ]
    }
   ],
   "metadata": {}
  }
 ],
 "metadata": {
  "kernelspec": {
   "name": "python3",
   "display_name": "Python 3.6.6 64-bit (conda)"
  },
  "language_info": {
   "codemirror_mode": {
    "name": "ipython",
    "version": 3
   },
   "file_extension": ".py",
   "mimetype": "text/x-python",
   "name": "python",
   "nbconvert_exporter": "python",
   "pygments_lexer": "ipython3",
   "version": "3.6.6"
  },
  "interpreter": {
   "hash": "d27af43fe1451b594071d7eb39c022d87d8cdc22e728ecc3a021ec050d61a923"
  }
 },
 "nbformat": 4,
 "nbformat_minor": 4
}